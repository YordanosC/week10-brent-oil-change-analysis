{
 "cells": [
  {
   "cell_type": "markdown",
   "metadata": {},
   "source": [
    "# Event Impact Analysis"
   ]
  },
  {
   "cell_type": "markdown",
   "metadata": {},
   "source": [
    "- Change Point Analysis\n",
    "- Estimate Change Point using Baysian Model\n",
    "- Analyze the impact of Events on oil price"
   ]
  },
  {
   "cell_type": "code",
   "execution_count": 3,
   "metadata": {},
   "outputs": [],
   "source": [
    "# Import require libraries and modules\n",
    "# Import necessary libraries\n",
    "import pandas as pd\n",
    "import numpy as np\n",
    "import matplotlib.pyplot as plt\n",
    "import os, sys\n",
    "# Add the 'scripts' directory to the Python path for module imports\n",
    "sys.path.append(os.path.abspath(os.path.join('..', 'scripts')))\n",
    "\n",
    "# Set max rows and columns to display\n",
    "pd.set_option('display.max_columns', 200)\n",
    "pd.set_option('display.max_rows', 200)\n",
    "\n",
    "# Assuming this class is defined in scripts/\n",
    "from event_change_analysis import EventChangeAnalyzer\n",
    "\n",
    "# Set default figure size for all plots\n",
    "plt.rcParams['figure.figsize'] = (14, 7)"
   ]
  },
  {
   "cell_type": "markdown",
   "metadata": {},
   "source": [
    "**Note**: always check <a href=\"../logs/notebooks.log\">Log</a> file for any log messages"
   ]
  },
  {
   "cell_type": "code",
   "execution_count": 4,
   "metadata": {},
   "outputs": [],
   "source": [
    "# Read the data\n",
    "# Load data into a pandas DataFrame\n",
    "price_data = pd.read_csv('../data/data.csv')\n",
    "price_data['Date'] = pd.to_datetime(price_data['Date'], format='mixed')\n",
    "price_data.set_index('Date', inplace=True)"
   ]
  },
  {
   "cell_type": "code",
   "execution_count": null,
   "metadata": {},
   "outputs": [
    {
     "ename": "NameError",
     "evalue": "name 'logger' is not defined",
     "output_type": "error",
     "traceback": [
      "\u001b[1;31m---------------------------------------------------------------------------\u001b[0m",
      "\u001b[1;31mNameError\u001b[0m                                 Traceback (most recent call last)",
      "Cell \u001b[1;32mIn[5], line 3\u001b[0m\n\u001b[0;32m      1\u001b[0m \u001b[38;5;66;03m# Usage example\u001b[39;00m\n\u001b[0;32m      2\u001b[0m \u001b[38;5;66;03m# Assuming logger is an instance of a configured logger and price_data is your DataFrame.\u001b[39;00m\n\u001b[1;32m----> 3\u001b[0m analyzer \u001b[38;5;241m=\u001b[39m EventChangeAnalyzer(price_data, logger\u001b[38;5;241m=\u001b[39m\u001b[43mlogger\u001b[49m)\n\u001b[0;32m      4\u001b[0m \u001b[38;5;66;03m# Calculate CUSUM\u001b[39;00m\n\u001b[0;32m      5\u001b[0m analyzer\u001b[38;5;241m.\u001b[39mcalculate_cusum()\n",
      "\u001b[1;31mNameError\u001b[0m: name 'logger' is not defined"
     ]
    }
   ],
   "source": [
    "# Usage example\n",
    "# Assuming logger is an instance of a configured logger and price_data is your DataFrame.\n",
    "analyzer = EventChangeAnalyzer(price_data,)\n",
    "# Calculate CUSUM\n",
    "analyzer.calculate_cusum()"
   ]
  },
  {
   "cell_type": "markdown",
   "metadata": {},
   "source": [
    "**Change Point Analysis with ruptures**"
   ]
  },
  {
   "cell_type": "code",
   "execution_count": null,
   "metadata": {},
   "outputs": [],
   "source": [
    "# Make sure install ruptures\n",
    "#!pip install ruptures"
   ]
  },
  {
   "cell_type": "code",
   "execution_count": null,
   "metadata": {},
   "outputs": [],
   "source": [
    "analyzer.detect_change_point()"
   ]
  },
  {
   "cell_type": "markdown",
   "metadata": {},
   "source": [
    "Estimate the change point using baysian model"
   ]
  },
  {
   "cell_type": "code",
   "execution_count": null,
   "metadata": {},
   "outputs": [],
   "source": [
    "change_point_date = analyzer.bayesian_change_point_detection()"
   ]
  },
  {
   "cell_type": "markdown",
   "metadata": {},
   "source": [
    "### Event Impact Analysis"
   ]
  },
  {
   "cell_type": "markdown",
   "metadata": {},
   "source": [
    "Based on the previous analysis on detecting the change points the following key events are identified that were impacted oil prices\n",
    "\n",
    "1999\n",
    "Russian Financial Crisis: The Russian default on its debt and devaluation of the ruble in 1998 led to a sharp drop in oil prices, but by 1999, the recovery began as oil demand increased, particularly from Asia.\n",
    "\n",
    "2005\n",
    "Hurricane Katrina: This devastating hurricane struck the Gulf Coast of the United States in August 2005, causing significant disruptions to oil production and refining capacity, leading to a spike in oil prices.\n",
    "\n",
    "2010\n",
    "Arab Spring: The wave of protests and uprisings across the Arab world began in late 2010, leading to political instability in key oil-producing countries such as Libya and Egypt, which drove up Brent oil prices.\n",
    "\n",
    "2014\n",
    "Oil Price Crash: In mid-2014, Brent oil prices began to decline sharply due to oversupply in the market, driven by increased production from the U.S. shale oil boom and OPEC's decision not to cut output.\n",
    "\n",
    "2021\n",
    "COVID-19 Pandemic Recovery: As global economies began to reopen following lockdowns, demand for oil surged, contributing to significant price increases in 2021. Additionally, OPEC+ production cuts played a role in driving prices higher."
   ]
  },
  {
   "cell_type": "code",
   "execution_count": null,
   "metadata": {},
   "outputs": [],
   "source": [
    "# Assuming 'change_years' is a list of date strings for change points\n",
    "#change_dates = pd.to_datetime(change_years)  # Converting change dates to datetime if not already\n",
    "\n",
    "# The researched key events associated with change points\n",
    "key_events = {\n",
    "    \"Russian Financial Crisis\": \"1999-08-17\",\n",
    "    \"Hurricane Katrina\": \"2005-08-29\",\n",
    "    \"Arab Spring\": \"2010-12-14\",\n",
    "    \"U.S. shale oil boom\": \"2014-06-30\",\n",
    "    \"Post-COVID-19 Recovery + OPEC+ Cuts\": \"2021-09-22\",\n",
    "}"
   ]
  },
  {
   "cell_type": "code",
   "execution_count": null,
   "metadata": {},
   "outputs": [],
   "source": [
    "# Call the analyze_price_changes_around_events method\n",
    "event_impact_df, t_test_df = analyzer.analyze_price_changes_around_events(key_events)\n",
    "\n",
    "# Display results\n",
    "print(\"Event Impact DataFrame:\")\n",
    "display(event_impact_df)\n",
    "\n",
    "print(\"\\nT-Test Results:\")\n",
    "display(t_test_df)"
   ]
  },
  {
   "cell_type": "markdown",
   "metadata": {},
   "source": [
    "#### Increase the number in the change point detection to find more events \n",
    "\n",
    "Also check the report for interpretation."
   ]
  }
 ],
 "metadata": {
  "kernelspec": {
   "display_name": ".venv",
   "language": "python",
   "name": "python3"
  },
  "language_info": {
   "codemirror_mode": {
    "name": "ipython",
    "version": 3
   },
   "file_extension": ".py",
   "mimetype": "text/x-python",
   "name": "python",
   "nbconvert_exporter": "python",
   "pygments_lexer": "ipython3",
   "version": "3.12.8"
  }
 },
 "nbformat": 4,
 "nbformat_minor": 2
}
